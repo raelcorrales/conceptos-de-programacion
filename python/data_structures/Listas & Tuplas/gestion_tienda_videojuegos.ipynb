{
 "cells": [
  {
   "cell_type": "markdown",
   "metadata": {},
   "source": [
    "# Ejercicio: Gestión de una Tienda de Videojuegos\n",
    "## Objetivo:\n",
    "Crear un programa en Python que simule la gestión de una tienda de videojuegos utilizando listas.\n",
    "\n",
    "## Instrucciones:\n",
    "\n",
    "1. Crea una lista llamada videojuegos y asígnale los siguientes títulos: **\"Mario Kart\", \"Zelda\", \"Pokemon\", \"Super Smash Bros\", \"Metroid\"**.\n",
    "1. Añadir el juego **\"Animal Crossing\"** al final de la lista.\n",
    "1. Insertar el juego **\"Splatoon\"** en la segunda posición de la lista.\n",
    "1. Eliminar el primer juego de la lista.\n",
    "1. Utiliza la palabra clave in para verificar si el juego **\"Zelda\"** está presente en la lista. Si lo está, imprime un mensaje indicando que se encontró.\n",
    "1. Ordenar la lista de videojuegos alfabéticamente.\n",
    "1. Crear una nueva lista llamada `primeros_tres` que contenga los primeros tres juegos de la lista ordenada.\n",
    "1. Contar cuántas veces aparece el juego **\"Mario Kart\"** en la lista y muestra el resultado por pantalla.\n"
   ]
  },
  {
   "cell_type": "code",
   "execution_count": 1,
   "metadata": {},
   "outputs": [],
   "source": [
    "videojuegos = [\"Mario Kart\", \"Zelda\", \"Pokemon\", \"Super Smash Bros\", \"Metroid\"]"
   ]
  },
  {
   "cell_type": "code",
   "execution_count": 2,
   "metadata": {},
   "outputs": [
    {
     "name": "stdout",
     "output_type": "stream",
     "text": [
      "['Mario Kart', 'Zelda', 'Pokemon', 'Super Smash Bros', 'Metroid']\n"
     ]
    }
   ],
   "source": [
    "print(videojuegos)"
   ]
  },
  {
   "cell_type": "code",
   "execution_count": 3,
   "metadata": {},
   "outputs": [],
   "source": [
    "# Agregar un nuevo juego\n",
    "videojuegos.append(\"Animal Crossing\")"
   ]
  },
  {
   "cell_type": "code",
   "execution_count": 4,
   "metadata": {},
   "outputs": [
    {
     "name": "stdout",
     "output_type": "stream",
     "text": [
      "['Mario Kart', 'Zelda', 'Pokemon', 'Super Smash Bros', 'Metroid', 'Animal Crossing']\n"
     ]
    }
   ],
   "source": [
    "print(videojuegos)"
   ]
  },
  {
   "cell_type": "code",
   "execution_count": 5,
   "metadata": {},
   "outputs": [],
   "source": [
    "# Insertar un juego en la segunda posición\n",
    "videojuegos.insert(1, \"Splatoon\")"
   ]
  },
  {
   "cell_type": "code",
   "execution_count": 6,
   "metadata": {},
   "outputs": [
    {
     "name": "stdout",
     "output_type": "stream",
     "text": [
      "['Mario Kart', 'Splatoon', 'Zelda', 'Pokemon', 'Super Smash Bros', 'Metroid', 'Animal Crossing']\n"
     ]
    }
   ],
   "source": [
    "print(videojuegos)"
   ]
  },
  {
   "cell_type": "code",
   "execution_count": 7,
   "metadata": {},
   "outputs": [
    {
     "data": {
      "text/plain": [
       "'Mario Kart'"
      ]
     },
     "execution_count": 7,
     "metadata": {},
     "output_type": "execute_result"
    }
   ],
   "source": [
    "# Eliminar el primer juego\n",
    "videojuegos.pop(0)"
   ]
  },
  {
   "cell_type": "code",
   "execution_count": 8,
   "metadata": {},
   "outputs": [
    {
     "name": "stdout",
     "output_type": "stream",
     "text": [
      "['Splatoon', 'Zelda', 'Pokemon', 'Super Smash Bros', 'Metroid', 'Animal Crossing']\n"
     ]
    }
   ],
   "source": [
    "print(videojuegos)"
   ]
  },
  {
   "cell_type": "code",
   "execution_count": 9,
   "metadata": {},
   "outputs": [
    {
     "name": "stdout",
     "output_type": "stream",
     "text": [
      "Zelda está en la lista\n"
     ]
    }
   ],
   "source": [
    "# Verificar si un juego está en la lista\n",
    "if \"Zelda\" in videojuegos:\n",
    "    print(\"Zelda está en la lista\")"
   ]
  },
  {
   "cell_type": "code",
   "execution_count": 10,
   "metadata": {},
   "outputs": [
    {
     "name": "stdout",
     "output_type": "stream",
     "text": [
      "['Splatoon', 'Zelda', 'Pokemon', 'Super Smash Bros', 'Metroid', 'Animal Crossing']\n"
     ]
    }
   ],
   "source": [
    "print(videojuegos)"
   ]
  },
  {
   "cell_type": "code",
   "execution_count": 11,
   "metadata": {},
   "outputs": [],
   "source": [
    "# Ordenar la lista alfabéticamente\n",
    "videojuegos.sort()"
   ]
  },
  {
   "cell_type": "code",
   "execution_count": 12,
   "metadata": {},
   "outputs": [
    {
     "name": "stdout",
     "output_type": "stream",
     "text": [
      "['Animal Crossing', 'Metroid', 'Pokemon', 'Splatoon', 'Super Smash Bros', 'Zelda']\n"
     ]
    }
   ],
   "source": [
    "print(videojuegos)"
   ]
  },
  {
   "cell_type": "code",
   "execution_count": 13,
   "metadata": {},
   "outputs": [],
   "source": [
    "# Crear una sublista con los 3 primeros juegos\n",
    "primeros_tres = videojuegos[:3]"
   ]
  },
  {
   "cell_type": "code",
   "execution_count": 14,
   "metadata": {},
   "outputs": [
    {
     "name": "stdout",
     "output_type": "stream",
     "text": [
      "['Animal Crossing', 'Metroid', 'Pokemon']\n"
     ]
    }
   ],
   "source": [
    "print(primeros_tres)"
   ]
  },
  {
   "cell_type": "code",
   "execution_count": 15,
   "metadata": {},
   "outputs": [
    {
     "name": "stdout",
     "output_type": "stream",
     "text": [
      "['Animal Crossing', 'Metroid', 'Pokemon', 'Splatoon', 'Super Smash Bros', 'Zelda']\n"
     ]
    }
   ],
   "source": [
    "print(videojuegos)"
   ]
  },
  {
   "cell_type": "code",
   "execution_count": 16,
   "metadata": {},
   "outputs": [
    {
     "name": "stdout",
     "output_type": "stream",
     "text": [
      "Mario Kart aparece 0 veces\n"
     ]
    }
   ],
   "source": [
    "# Contar las apariciones de un juego\n",
    "apariciones_mario_kart = videojuegos.count(\"Mario Kart\")\n",
    "print(\"Mario Kart aparece\", apariciones_mario_kart, \"veces\")"
   ]
  }
 ],
 "metadata": {
  "kernelspec": {
   "display_name": "Python 3",
   "language": "python",
   "name": "python3"
  },
  "language_info": {
   "codemirror_mode": {
    "name": "ipython",
    "version": 3
   },
   "file_extension": ".py",
   "mimetype": "text/x-python",
   "name": "python",
   "nbconvert_exporter": "python",
   "pygments_lexer": "ipython3",
   "version": "3.12.3"
  }
 },
 "nbformat": 4,
 "nbformat_minor": 2
}
