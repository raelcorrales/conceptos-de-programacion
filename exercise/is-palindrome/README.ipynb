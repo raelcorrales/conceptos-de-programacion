{
 "cells": [
  {
   "cell_type": "markdown",
   "metadata": {},
   "source": [
    "# Es Palindromo\n",
    "> Pregunta de entrevista de Python de Spotify\n",
    "\n",
    "Dada una cadena **phrase**, devuelve True si es un palíndromo, de lo contrario devuelve False.\n",
    "\n",
    "Un palíndromo es una cadena que se lee igual hacia adelante y hacia atrás. Además, no distingue entre mayúsculas y minúsculas e ignora todos los caracteres no alfanuméricos.\n",
    "\n",
    "*Desafío:* intenta resolver esto sin usar memoria adicional. Específicamente, resuélvelo sin hacer una copia de la **phrase**.\n",
    "\n",
    "**Aclaraciones:**\n",
    "- **phrase** se compone solo de: letras, números, espacios y signos de puntuación/símbolos estándar\n",
    "\n",
    "**Ejemplo n.° 1**\n",
    "**Input:** phrase = \"Taco cat\".\n",
    "**Output:** True\n",
    "\n",
    "**Explicación:** Si solo se consideran caracteres alfanuméricos y se convierte a minúsculas, \"tacocat\" es un palíndromo.\n",
    "\n",
    "**Ejemplo n.° 2**\n",
    "**Input:** phrase = \"I love SQL <3\"\n",
    "**Output:** False\n",
    "\n",
    "**Explicación:** Si solo se consideran caracteres alfanuméricos y se convierte a minúsculas, \"ilovesql3\" ni siquiera se acerca."
   ]
  },
  {
   "cell_type": "code",
   "execution_count": 1,
   "metadata": {},
   "outputs": [],
   "source": [
    "import time"
   ]
  },
  {
   "cell_type": "code",
   "execution_count": 2,
   "metadata": {},
   "outputs": [
    {
     "name": "stdout",
     "output_type": "stream",
     "text": [
      "True\n",
      "True\n",
      "False\n",
      "True\n",
      "False\n",
      "True\n",
      "0.0011899471282958984\n"
     ]
    }
   ],
   "source": [
    "# Solution 1\n",
    "start_time_1 = time.time()\n",
    "\n",
    "def isPalindrome_1(phrase):\n",
    "  # initialize pointers\n",
    "  left = 0\n",
    "  right = len(phrase)-1\n",
    "  \n",
    "  while left < right:\n",
    "    # skip over non-alphanumeric\n",
    "    if not phrase[left].isalnum():\n",
    "      left = left+1\n",
    "      continue\n",
    "    if not phrase[right].isalnum():\n",
    "      right = right-1\n",
    "      continue\n",
    "    \n",
    "    # ready to compare opposite sides\n",
    "    if phrase[left].lower() == phrase[right].lower():  \n",
    "      left = left+1\n",
    "      right = right-1\n",
    "    else:\n",
    "      return False\n",
    "  \n",
    "  # if no more comparisons left to make\n",
    "  return True\n",
    "\n",
    "print(isPalindrome_1('abccba'))\n",
    "print(isPalindrome_1('12321'))\n",
    "print(isPalindrome_1('warsaw'))\n",
    "print(isPalindrome_1('Taco cat.'))\n",
    "print(isPalindrome_1('I love SQL <3'))\n",
    "print(isPalindrome_1('Yo! Banana boy.'))\n",
    "end_time_1 = time.time()\n",
    "execution_time_1 = end_time_1 - start_time_1\n",
    "print(execution_time_1)"
   ]
  },
  {
   "cell_type": "code",
   "execution_count": 3,
   "metadata": {},
   "outputs": [
    {
     "name": "stdout",
     "output_type": "stream",
     "text": [
      "True\n",
      "True\n",
      "False\n",
      "True\n",
      "False\n",
      "True\n",
      "0.0009944438934326172\n"
     ]
    }
   ],
   "source": [
    "# My Solution\n",
    "\n",
    "start_time_my = time.time()\n",
    "def isPalindrome(phrase):\n",
    "    def clean_text(text):\n",
    "        return text.replace(' ', '').replace('.', '').replace('!', '').lower()\n",
    "    reversed_string = clean_text(phrase[::-1])\n",
    "    phrase = clean_text(phrase)\n",
    "    return reversed_string == phrase\n",
    "\n",
    "print(isPalindrome('abccba'))\n",
    "print(isPalindrome('12321'))\n",
    "print(isPalindrome('warsaw'))\n",
    "print(isPalindrome('Taco cat.'))\n",
    "print(isPalindrome('I love SQL <3'))\n",
    "print(isPalindrome('Yo! Banana boy.'))\n",
    "end_time_my = time.time()\n",
    "execution_time_my = end_time_my - start_time_my\n",
    "print(execution_time_my)"
   ]
  },
  {
   "cell_type": "code",
   "execution_count": 4,
   "metadata": {},
   "outputs": [
    {
     "name": "stdout",
     "output_type": "stream",
     "text": [
      "0.0009944438934326172\n",
      "0.0011899471282958984\n"
     ]
    }
   ],
   "source": [
    "time_list = [execution_time_1, execution_time_my]\n",
    "\n",
    "print(min(time_list))\n",
    "print(max(time_list))"
   ]
  }
 ],
 "metadata": {
  "kernelspec": {
   "display_name": "Python 3",
   "language": "python",
   "name": "python3"
  },
  "language_info": {
   "codemirror_mode": {
    "name": "ipython",
    "version": 3
   },
   "file_extension": ".py",
   "mimetype": "text/x-python",
   "name": "python",
   "nbconvert_exporter": "python",
   "pygments_lexer": "ipython3",
   "version": "3.12.3"
  }
 },
 "nbformat": 4,
 "nbformat_minor": 2
}
