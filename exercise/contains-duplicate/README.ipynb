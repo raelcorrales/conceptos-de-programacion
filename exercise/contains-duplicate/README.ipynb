{
 "cells": [
  {
   "cell_type": "markdown",
   "metadata": {},
   "source": [
    "# Contiene Duplicados\n",
    "> Pregunta de Entrevista de Apple en Python\n",
    "\n",
    "Dado una lista de enteros llamada `input`, devuelve **True** si algún valor aparece al menos dos veces en la lista. Devuelve **False** si cada elemento de la lista de entrada es distinto.\n",
    "\n",
    "Por ejemplo, si la lista de `input` fuera `[1,3,5,7,1]`, entonces devuelve **True** porque el número 1 aparece dos veces.\n",
    "\n",
    "Sin embargo, si la entrada fuera `[1,3,5,7]`, entonces devuelve **False**, porque cada elemento de la lista es distinto.\n"
   ]
  },
  {
   "cell_type": "code",
   "execution_count": 1,
   "metadata": {},
   "outputs": [],
   "source": [
    "import time"
   ]
  },
  {
   "cell_type": "code",
   "execution_count": 2,
   "metadata": {},
   "outputs": [
    {
     "name": "stdout",
     "output_type": "stream",
     "text": [
      "True\n",
      "True\n",
      "True\n",
      "False\n",
      "0.001001119613647461\n"
     ]
    }
   ],
   "source": [
    "# Solution 1\n",
    "input1 = [1,3,5,7,1]\n",
    "input2 = [1,3,5,7,2, 3, 2, 5]\n",
    "input3 = [1, 3, 2, 5, 2, 3, 1]\n",
    "input4 = [1, 2, 3, 5, 7]\n",
    "\n",
    "start_time_1 = time.time()\n",
    "def contains_duplicate1(input:list)->bool:\n",
    "    for i in range(len(input)-1):\n",
    "        for j in range(i+1, len(input)):\n",
    "            if (input[i] == input[j]):\n",
    "                return True\n",
    "    return False\n",
    "print(contains_duplicate1(input1))\n",
    "print(contains_duplicate1(input2))\n",
    "print(contains_duplicate1(input3))\n",
    "print(contains_duplicate1(input4))\n",
    "end_time_1 = time.time()\n",
    "execution_time_1 = end_time_1 - start_time_1\n",
    "print(execution_time_1)"
   ]
  },
  {
   "cell_type": "code",
   "execution_count": 3,
   "metadata": {},
   "outputs": [
    {
     "name": "stdout",
     "output_type": "stream",
     "text": [
      "True\n",
      "True\n",
      "True\n",
      "False\n",
      "0.0009970664978027344\n"
     ]
    }
   ],
   "source": [
    "# Solution 2\n",
    "start_time_2 = time.time()\n",
    "input1 = [1,3,5,7,1]\n",
    "input2 = [1,3,5,7,2, 3, 2, 5]\n",
    "input3 = [1, 3, 2, 5, 2, 3, 1]\n",
    "input4 = [1, 2, 3, 5, 7]\n",
    "def contains_duplicate2(input:list)->bool:\n",
    "    input.sort()\n",
    "    for i in range(len(input)-1):\n",
    "        if (input[i] == input[i+1]):\n",
    "            return True\n",
    "    return False\n",
    "print(contains_duplicate2(input1))\n",
    "print(contains_duplicate2(input2))\n",
    "print(contains_duplicate2(input3))\n",
    "print(contains_duplicate2(input4))\n",
    "end_time_2 = time.time()\n",
    "execution_time_2 = end_time_2 - start_time_2\n",
    "print(execution_time_2)"
   ]
  },
  {
   "cell_type": "code",
   "execution_count": 4,
   "metadata": {},
   "outputs": [
    {
     "name": "stdout",
     "output_type": "stream",
     "text": [
      "True\n",
      "True\n",
      "True\n",
      "False\n",
      "0.001001119613647461\n"
     ]
    }
   ],
   "source": [
    "# Solution 3\n",
    "start_time_3 = time.time()\n",
    "input1 = [1,3,5,7,1]\n",
    "input2 = [1,3,5,7,2, 3, 2, 5]\n",
    "input3 = [1, 3, 2, 5, 2, 3, 1]\n",
    "input4 = [1, 2, 3, 5, 7]\n",
    "def contains_duplicate3(input:list)->bool:\n",
    "    seen = {}\n",
    "    for i in input:\n",
    "        if i in seen:\n",
    "            return True\n",
    "        seen[i] = True\n",
    "    return False\n",
    "print(contains_duplicate3(input1))\n",
    "print(contains_duplicate3(input2))\n",
    "print(contains_duplicate3(input3))\n",
    "print(contains_duplicate3(input4))\n",
    "end_time_3 = time.time()\n",
    "execution_time_3 = end_time_3 - start_time_3\n",
    "print(execution_time_3)"
   ]
  },
  {
   "cell_type": "code",
   "execution_count": 5,
   "metadata": {},
   "outputs": [
    {
     "name": "stdout",
     "output_type": "stream",
     "text": [
      "True\n",
      "True\n",
      "True\n",
      "False\n",
      "0.0010023117065429688\n"
     ]
    }
   ],
   "source": [
    "# My Pythonic Solution\n",
    "start_time_my = time.time()\n",
    "input1 = [1,3,5,7,1]\n",
    "input2 = [1,3,5,7,2, 3, 2, 5]\n",
    "input3 = [1, 3, 2, 5, 2, 3, 1]\n",
    "input4 = [1, 2, 3, 5, 7]\n",
    "def my_contains_duplicate(input:list)-> bool:\n",
    "  return len(set(input)) < len(input)\n",
    "print(my_contains_duplicate(input1))\n",
    "print(my_contains_duplicate(input2))\n",
    "print(my_contains_duplicate(input3))\n",
    "print(my_contains_duplicate(input4))\n",
    "end_time_my = time.time()\n",
    "execution_time_my = end_time_my - start_time_my\n",
    "print(execution_time_my)"
   ]
  },
  {
   "cell_type": "code",
   "execution_count": 6,
   "metadata": {},
   "outputs": [
    {
     "name": "stdout",
     "output_type": "stream",
     "text": [
      "True\n",
      "True\n",
      "True\n",
      "False\n",
      "0.001003265380859375\n"
     ]
    }
   ],
   "source": [
    "# My Engineer Solution\n",
    "start_time_ing = time.time()\n",
    "input1 = [1,3,5,7,1]\n",
    "input2 = [1,3,5,7,2, 3, 2, 5]\n",
    "input3 = [1, 3, 2, 5, 2, 3, 1]\n",
    "input4 = [1, 2, 3, 5, 7]\n",
    "def my_contains_duplicate_ing(input:list)-> bool:\n",
    "    mid_n = int(len(input) / 2)\n",
    "    for n1 in range(0, mid_n+1):\n",
    "        for n2 in range(len(input)-1, mid_n, -1):\n",
    "            if input[n1] == input[n2]:\n",
    "                return True\n",
    "    return False\n",
    "\n",
    "print(my_contains_duplicate_ing(input1))\n",
    "print(my_contains_duplicate_ing(input2))\n",
    "print(my_contains_duplicate_ing(input3))\n",
    "print(my_contains_duplicate_ing(input4))\n",
    "end_time_ing = time.time()\n",
    "execution_time_ing = end_time_ing - start_time_ing\n",
    "print(execution_time_ing)"
   ]
  },
  {
   "cell_type": "code",
   "execution_count": 7,
   "metadata": {},
   "outputs": [
    {
     "name": "stdout",
     "output_type": "stream",
     "text": [
      "0.0009970664978027344\n",
      "0.0010023117065429688\n"
     ]
    }
   ],
   "source": [
    "time_list = [execution_time_1, execution_time_2, execution_time_3, execution_time_my]\n",
    "\n",
    "print(min(time_list))\n",
    "print(max(time_list))"
   ]
  }
 ],
 "metadata": {
  "kernelspec": {
   "display_name": "Python 3",
   "language": "python",
   "name": "python3"
  },
  "language_info": {
   "codemirror_mode": {
    "name": "ipython",
    "version": 3
   },
   "file_extension": ".py",
   "mimetype": "text/x-python",
   "name": "python",
   "nbconvert_exporter": "python",
   "pygments_lexer": "ipython3",
   "version": "3.12.3"
  }
 },
 "nbformat": 4,
 "nbformat_minor": 2
}
