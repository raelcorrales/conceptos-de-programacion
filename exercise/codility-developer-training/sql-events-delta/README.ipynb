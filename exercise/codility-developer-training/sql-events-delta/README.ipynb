{
 "cells": [
  {
   "cell_type": "markdown",
   "metadata": {},
   "source": [
    "# SQLSum\n",
    "Given a table events with the following structure:\n",
    "```\n",
    "  create table events (\n",
    "\tevent_type integer not null,\n",
    "\tvalue integer not null,\n",
    "\ttime timestamp not null,\n",
    "\tunique(event_type, time)\n",
    "  );\n",
    "```\n",
    "\n",
    "write an SQL query that, for each event_type that has been registered more than once, returns the difference between the latest (i.e. the most recent in terms of time) and the second latest value. The table should be ordered by event_type (in ascending order).\n",
    "\n",
    "For example, given the following data:\n",
    "\n",
    "| event_type | value | time |\n",
    "| :------------ | :------------ | :------------ |\n",
    "| 2 | 5 | 2015-05-09 12:42:00 |\n",
    "| 4 | -42 | 2015-05-09 13:19:57 |\n",
    "| 2 | 2 | 2015-05-09 14:48:30 |\n",
    "| 2 | 7 | 2015-05-09 12:54:39 |\n",
    "| 3 | 16 | 2015-05-09 13:19:57 |\n",
    "| 3 | 20 | 2015-05-09 15:01:09 |\n",
    "\n",
    "your query should return the following rowset:\n",
    "\n",
    "| event_type | value |\n",
    "| :------------ | :------------ |\n",
    "| 2 | -5 |\n",
    "| 3 | 4 |\n",
    "\n",
    "For the event_type 2, the latest value is 2 and the second latest value is 7, so the difference between them is −5.\n",
    "\n",
    "The names of the columns in the rowset don't matter, but their order does.\n"
   ]
  },
  {
   "cell_type": "code",
   "execution_count": null,
   "metadata": {
    "vscode": {
     "languageId": "plaintext"
    }
   },
   "outputs": [],
   "source": [
    "-- Implement your solution here\n",
    "WITH ranked_events AS(\n",
    "    SELECT\n",
    "    event_type,\n",
    "    value,\n",
    "    time,\n",
    "    ROW_NUMBER() OVER(PARTITION BY event_type ORDER BY time DESC) AS rn\n",
    "    FROM events\n",
    "),\n",
    "latest_values AS (\n",
    "    SELECT\n",
    "        event_type,\n",
    "        MAX(CASE WHEN rn=1 THEN value END) AS latest_value,\n",
    "        MAX(CASE WHEN rn = 2 THEN value END) AS second_latest_value\n",
    "        FROM ranked_events\n",
    "        WHERE rn <= 2\n",
    "        GROUP BY event_type\n",
    ")\n",
    "\n",
    "SELECT\n",
    "event_type,\n",
    "latest_value - second_latest_value AS value_difference\n",
    "FROM latest_values\n",
    "WHERE second_latest_value IS NOT NULL\n",
    "ORDER BY event_type;"
   ]
  }
 ],
 "metadata": {
  "kernelspec": {
   "display_name": "Python 3",
   "language": "python",
   "name": "python3"
  },
  "language_info": {
   "codemirror_mode": {
    "name": "ipython",
    "version": 3
   },
   "file_extension": ".py",
   "mimetype": "text/x-python",
   "name": "python",
   "nbconvert_exporter": "python",
   "pygments_lexer": "ipython3",
   "version": "3.12.3"
  }
 },
 "nbformat": 4,
 "nbformat_minor": 2
}
