{
 "cells": [
  {
   "cell_type": "markdown",
   "metadata": {},
   "source": [
    "# ArrListLen\n",
    "A non-empty array A consisting of N integers is given.\n",
    "\n",
    "Array A represents a linked list. A list is constructed from this array as follows:\n",
    "\n",
    "the first node (the head) is located at index 0;\n",
    "the value of a node located at index K is A[K];\n",
    "if the value of a node is −1 then it is the last node of the list;\n",
    "otherwise, the successor of a node located at index K is located at index A[K] (you can assume that A[K] is a valid index, that is 0 ≤ A[K] < N).\n",
    "For example, for array A such that:\n",
    "\n",
    "```python\n",
    "  A[0] =  1\n",
    "  A[1] =  4\n",
    "  A[2] = -1\n",
    "  A[3] =  3\n",
    "  A[4] =  2\n",
    "```\n",
    "\n",
    "the following list is constructed:\n",
    "\n",
    "the first node (the head) is located at index 0 and has a value of 1;\n",
    "the second node is located at index 1 and has a value of 4;\n",
    "the third node is located at index 4 and has a value of 2;\n",
    "the fourth node is located at index 2 and has a value of −1.\n",
    "Write a function:\n",
    "\n",
    "```python\n",
    "def solution(A)\n",
    "```\n",
    "\n",
    "that, given a non-empty array A consisting of N integers, returns the length of the list constructed from A in the above manner.\n",
    "\n",
    "For example, given array A such that:\n",
    "\n",
    "```python\n",
    "  A[0] =  1\n",
    "  A[1] =  4\n",
    "  A[2] = -1\n",
    "  A[3] =  3\n",
    "  A[4] =  2\n",
    "```\n",
    "\n",
    "the function should return 4, as explained in the example above.\n",
    "\n",
    "Assume that:\n",
    "\n",
    "N is an integer within the range [1..200,000];\n",
    "each element of array A is an integer within the range [−1..N-1];\n",
    "it will always be possible to construct the list and its length will be finite.\n",
    "In your solution, focus on correctness. The performance of your solution will not be the focus of the assessment."
   ]
  },
  {
   "cell_type": "code",
   "execution_count": 1,
   "metadata": {},
   "outputs": [],
   "source": [
    "def solution(A):\n",
    "    # Implement your solution here\n",
    "    length_n = 0\n",
    "    current_index = 0\n",
    "\n",
    "    while current_index != -1:\n",
    "        length_n += 1\n",
    "        current_index = A[current_index]\n",
    "        \n",
    "    return length_n"
   ]
  },
  {
   "cell_type": "code",
   "execution_count": 2,
   "metadata": {},
   "outputs": [
    {
     "name": "stdout",
     "output_type": "stream",
     "text": [
      "3\n"
     ]
    }
   ],
   "source": [
    "print(solution([2,-1,1,0,0,0]))"
   ]
  }
 ],
 "metadata": {
  "kernelspec": {
   "display_name": "Python 3",
   "language": "python",
   "name": "python3"
  },
  "language_info": {
   "codemirror_mode": {
    "name": "ipython",
    "version": 3
   },
   "file_extension": ".py",
   "mimetype": "text/x-python",
   "name": "python",
   "nbconvert_exporter": "python",
   "pygments_lexer": "ipython3",
   "version": "3.12.3"
  }
 },
 "nbformat": 4,
 "nbformat_minor": 2
}
