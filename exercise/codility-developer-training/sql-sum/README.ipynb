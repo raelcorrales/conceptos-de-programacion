{
 "cells": [
  {
   "cell_type": "markdown",
   "metadata": {},
   "source": [
    "# SQLSum\n",
    "Given a table elements with the following structure:\n",
    "\n",
    " ```sql\n",
    "create table elements (\n",
    "    v integer not null\n",
    ");\n",
    "```\n",
    "write an SQL query that returns the sum of the numbers in column v.\n",
    "\n",
    "For example, given:\n",
    "\n",
    "|  v |\n",
    "| :------------ |\n",
    "|  2 |\n",
    "|  10 |\n",
    "|  20 |\n",
    "| 10  |\n",
    "\n",
    "your query should return `42`."
   ]
  },
  {
   "cell_type": "code",
   "execution_count": null,
   "metadata": {},
   "outputs": [],
   "source": [
    "SELECT SUM(v) as v FROM elements;"
   ]
  }
 ],
 "metadata": {
  "kernelspec": {
   "display_name": "Python 3",
   "language": "python",
   "name": "python3"
  },
  "language_info": {
   "name": "python",
   "version": "3.12.3"
  }
 },
 "nbformat": 4,
 "nbformat_minor": 2
}
