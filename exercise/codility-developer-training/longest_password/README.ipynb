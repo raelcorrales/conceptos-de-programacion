{
 "cells": [
  {
   "cell_type": "markdown",
   "metadata": {},
   "source": [
    "# LongestPassword\n",
    "\n",
    "You would like to set a password for a bank account. However, there are three restrictions on the format of the password:\n",
    "\n",
    "- it has to contain only alphanumerical characters (`a−z`, `A−Z`, `0−9`);\n",
    "- there should be an even number of letters;\n",
    "- there should be an odd number of digits.\n",
    "\n",
    "You are given a string S consisting of N characters. String S can be divided into words by splitting it at, and removing, the spaces. The goal is to choose the longest word that is a valid password. You can assume that if there are K spaces in string S then there are exactly K + 1 words.\n",
    "\n",
    "For example, given \"`test 5 a0A pass007 ?xy1`\", there are five words and three of them are valid passwords: \"`5`\", \"`a0A`\" and \"`pass007`\". Thus the longest password is \"`pass007`\" and its length is 7. Note that neither \"`test`\" nor \"`?xy1`\" is a valid password, because \"`?`\" is not an alphanumerical character and \"`test`\" contains an even number of digits (zero).\n",
    "\n",
    "Write a function:\n",
    "```\n",
    "def solution(S)\n",
    "```\n",
    "\n",
    "that, given a non-empty string S consisting of N characters, returns the length of the longest word from the string that is a valid password. If there is no such word, your function should return −1.\n",
    "\n",
    "For example, given S = \"test 5 a0A pass007 ?xy1\", your function should return 7, as explained above.\n",
    "\n",
    "Assume that:\n",
    "\n",
    "N is an integer within the range [1..200];\n",
    "string S consists only of printable ASCII characters and spaces.\n",
    "In your solution, focus on correctness. The performance of your solution will not be the focus of the assessment."
   ]
  },
  {
   "cell_type": "code",
   "execution_count": null,
   "metadata": {},
   "outputs": [],
   "source": [
    "import re\n",
    "\n",
    "def solution(S):\n",
    "    pass_list = S.split()\n",
    "\n",
    "    longest = -1\n",
    "    for p_string in pass_list:\n",
    "        # Check if the word is alphanumeric\n",
    "        if not re.fullmatch(r'[a-zA-Z0-9]+', p_string):\n",
    "            continue\n",
    "        \n",
    "        # Count letters and digits\n",
    "        letters = sum(c.isalpha() for c in p_string)\n",
    "        digits = sum(c.isdigit() for c in p_string)\n",
    "\n",
    "        # Check if the word has an even number of letters and an odd number of digits\n",
    "        if letters % 2 == 0 and digits % 2 != 0:\n",
    "            longest = max(longest, len(p_string))\n",
    "    \n",
    "    return longest"
   ]
  }
 ],
 "metadata": {
  "kernelspec": {
   "display_name": "Python 3",
   "language": "python",
   "name": "python3"
  },
  "language_info": {
   "name": "python",
   "version": "3.12.3"
  }
 },
 "nbformat": 4,
 "nbformat_minor": 2
}
