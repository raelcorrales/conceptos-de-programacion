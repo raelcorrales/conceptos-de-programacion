{
 "cells": [
  {
   "cell_type": "markdown",
   "metadata": {},
   "source": [
    "# Es biciesto\n",
    "\n",
    "Casi cada cuatro años se añade un día extra al calendario, el 29 de febrero, y se lo denomina día bisiesto. Corrige el calendario por el hecho de que nuestro planeta tarda aproximadamente *365,25* días en orbitar alrededor del sol. Un año bisiesto contiene un día bisiesto.\n",
    "\n",
    "En el calendario gregoriano, se utilizan tres condiciones para identificar los años bisiestos:\n",
    "\n",
    "El año se puede dividir de forma exacta por 4, es un año bisiesto, a menos que:\n",
    "- El año se puede dividir de forma exacta por 100, **NO** es un año bisiesto, a menos que:\n",
    "\t- El año también es divisible de forma exacta por 400. En ese caso, es un año bisiesto.\n",
    "\n",
    "Esto significa que en el calendario gregoriano, los años 2000 y 2400 son años bisiestos, mientras que 1800, 1900, 2100, 2200, 2300 y 2500 **NO** son años bisiestos. Fuente\n",
    "\n",
    "## Tarea\n",
    "\n",
    "Dado un año, determina si es un año bisiesto. Si es un año bisiesto, devuelve el valor booleano True, de lo contrario devuelve False.\n",
    "\n",
    "Ten en cuenta que el código auxiliar proporcionado lee desde STDIN y pasa argumentos a la función is_leap. Solo es necesario completar la función is_leap.\n",
    "\n",
    "## Formato de entrada\n",
    "Lee `year`, el año a probar.\n",
    "\n",
    "## Restricciones\n",
    "`1900 ≤ year ≤ 10⁵`\n",
    "\n",
    "## Ejemplo\n",
    "La función debe devolver un valor booleano (Verdadero/Falso). La salida es manejada por el código auxiliar proporcionado.\n",
    "`1990` -> `False`\n",
    "\n",
    "### Explicación\n",
    "`1990` no es un múltiplo de 4, por lo tanto, no es un año bisiesto."
   ]
  },
  {
   "cell_type": "code",
   "execution_count": 1,
   "metadata": {},
   "outputs": [],
   "source": [
    "import time"
   ]
  },
  {
   "cell_type": "code",
   "execution_count": 2,
   "metadata": {},
   "outputs": [
    {
     "name": "stdout",
     "output_type": "stream",
     "text": [
      "True\n",
      "True\n",
      "True\n",
      "True\n",
      "True\n",
      "True\n",
      "True\n",
      "True\n",
      "True\n",
      "True\n",
      "0.00099945068359375\n"
     ]
    }
   ],
   "source": [
    "# Solution\n",
    "start_time = time.time()\n",
    "def is_leap(year):\n",
    "    leap = False    \n",
    "    \n",
    "    if (year % 4 == 0) and (year % 100 == 0) and (year % 400 == 0):\n",
    "        leap = True\n",
    "    elif (year % 4 == 0) and (year % 100 == 0) and (year % 400 != 0):\n",
    "        leap = False\n",
    "    elif (year % 4 == 0) and (year % 100 != 0):\n",
    "        leap = True\n",
    "    else:\n",
    "        leap = False\n",
    "    \n",
    "    return leap\n",
    "print(is_leap(2000) == True)\n",
    "print(is_leap(2400) == True)\n",
    "print(is_leap(1800) == False)\n",
    "print(is_leap(1900) == False)\n",
    "print(is_leap(2020) == True)\n",
    "print(is_leap(2021) == False)\n",
    "print(is_leap(2022) == False)\n",
    "print(is_leap(2023) == False)\n",
    "print(is_leap(2024) == True)\n",
    "print(is_leap(2025) == False)\n",
    "\n",
    "end_time = time.time()\n",
    "execution_time = end_time - start_time\n",
    "print(execution_time)"
   ]
  }
 ],
 "metadata": {
  "kernelspec": {
   "display_name": "Python 3",
   "language": "python",
   "name": "python3"
  },
  "language_info": {
   "codemirror_mode": {
    "name": "ipython",
    "version": 3
   },
   "file_extension": ".py",
   "mimetype": "text/x-python",
   "name": "python",
   "nbconvert_exporter": "python",
   "pygments_lexer": "ipython3",
   "version": "3.12.3"
  }
 },
 "nbformat": 4,
 "nbformat_minor": 2
}
