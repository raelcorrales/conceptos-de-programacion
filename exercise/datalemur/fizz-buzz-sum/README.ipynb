{
 "cells": [
  {
   "cell_type": "markdown",
   "metadata": {},
   "source": [
    "# Fizz Buzz Sum\n",
    "> Pregunta de Entrevista de Google en Python\n",
    "\n",
    "Escribe una function **fizz_buzz_sum** para encontrar la suma de todos los múltiplos de 3 o 5 por debajo de un valor objetivo.\n",
    "\n",
    "Por ejemplo, si el valor objetivo era 10, los múltiplos de 3 o 5 por debajo de 10 son 3, 5, 6 y 9.\n",
    "\n",
    "Entonces, **3+5+6+9=23**, nuestra funcion debe regresar 23."
   ]
  },
  {
   "cell_type": "code",
   "execution_count": 1,
   "metadata": {},
   "outputs": [],
   "source": [
    "import time"
   ]
  },
  {
   "cell_type": "code",
   "execution_count": 2,
   "metadata": {},
   "outputs": [
    {
     "name": "stdout",
     "output_type": "stream",
     "text": [
      "True\n",
      "True\n",
      "True\n",
      "0.0010027885437011719\n"
     ]
    }
   ],
   "source": [
    "# Solution 1\n",
    "start_time_1 = time.time()\n",
    "def fizz_buzz_sum_1(target):\n",
    "    sum = 0\n",
    "    for i in range(target):\n",
    "        if (i % 3 == 0) or (i % 5 == 0):\n",
    "            sum += i\n",
    "    return sum\n",
    "print(fizz_buzz_sum_1(10) == 23)\n",
    "print(fizz_buzz_sum_1(16) == 60)\n",
    "print(fizz_buzz_sum_1(100) == 2318)\n",
    "\n",
    "end_time_1 = time.time()\n",
    "execution_time_1 = end_time_1 - start_time_1\n",
    "print(execution_time_1)"
   ]
  },
  {
   "cell_type": "code",
   "execution_count": 3,
   "metadata": {},
   "outputs": [
    {
     "name": "stdout",
     "output_type": "stream",
     "text": [
      "True\n",
      "True\n",
      "True\n",
      "0.0009829998016357422\n"
     ]
    }
   ],
   "source": [
    "# My Pythonic Solution\n",
    "start_time_my = time.time()\n",
    "def fizz_buzz_sum_my(target):\n",
    "  return sum([n for n in range(1, target) if n % 3 == 0 or n % 5 == 0])\n",
    "print(fizz_buzz_sum_my(10) == 23)\n",
    "print(fizz_buzz_sum_my(16) == 60)\n",
    "print(fizz_buzz_sum_my(100) == 2318)\n",
    "end_time_my = time.time()\n",
    "execution_time_my = end_time_my - start_time_my\n",
    "print(execution_time_my)"
   ]
  },
  {
   "cell_type": "code",
   "execution_count": 4,
   "metadata": {},
   "outputs": [
    {
     "name": "stdout",
     "output_type": "stream",
     "text": [
      "True\n",
      "True\n",
      "True\n",
      "0.0009999275207519531\n"
     ]
    }
   ],
   "source": [
    "# My Engineer Solution\n",
    "start_time_ing = time.time()\n",
    "def fizz_buzz_sum_ing(target):\n",
    "    sum_value = 0\n",
    "    for n in range(1, target):\n",
    "        if n % 3 == 0 or n % 5 == 0:\n",
    "            sum_value += n\n",
    "    return sum_value\n",
    "print(fizz_buzz_sum_ing(10) == 23)\n",
    "print(fizz_buzz_sum_ing(16) == 60)\n",
    "print(fizz_buzz_sum_ing(100) == 2318)\n",
    "end_time_ing = time.time()\n",
    "execution_time_ing = end_time_ing - start_time_ing\n",
    "print(execution_time_ing)"
   ]
  },
  {
   "cell_type": "code",
   "execution_count": 5,
   "metadata": {},
   "outputs": [
    {
     "name": "stdout",
     "output_type": "stream",
     "text": [
      "0.0009829998016357422\n",
      "0.0010027885437011719\n"
     ]
    }
   ],
   "source": [
    "time_list = [execution_time_1, execution_time_my, execution_time_ing]\n",
    "\n",
    "print(min(time_list))\n",
    "print(max(time_list))"
   ]
  }
 ],
 "metadata": {
  "kernelspec": {
   "display_name": "Python 3",
   "language": "python",
   "name": "python3"
  },
  "language_info": {
   "codemirror_mode": {
    "name": "ipython",
    "version": 3
   },
   "file_extension": ".py",
   "mimetype": "text/x-python",
   "name": "python",
   "nbconvert_exporter": "python",
   "pygments_lexer": "ipython3",
   "version": "3.12.3"
  }
 },
 "nbformat": 4,
 "nbformat_minor": 2
}
