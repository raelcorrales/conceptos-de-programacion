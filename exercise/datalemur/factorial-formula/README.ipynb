{
 "cells": [
  {
   "cell_type": "markdown",
   "metadata": {},
   "source": [
    "# Formula Factorial\n",
    "> Pregnta de Entrevista de Microsoft en Python\n",
    "\n",
    "Dado un numero **n**, escribe una formula que regrese **n!**.\n",
    "En caso de que hayas olvidado la formula del Factorial, **N! = N x (N-1) x (N-2) x ... x 1**.\n",
    "\n",
    "Por ejemplo, **5! = 5 x 4 x 3 x 2 x 1 = 120**, entonces, regresaremos **120**.\n",
    "\n",
    "Asumiremos que **n** es un numero entero no negativo.\n",
    "\n",
    "P.D. Si este problema parece demasiado trivial, prueba el siguiente problema de entrevista de Microsoft: [Factorial Trailing Zeroes](https://datalemur.com/questions/python-factorial-trailing-zeroes \"Factorial Trailing Zeroes\")"
   ]
  },
  {
   "cell_type": "code",
   "execution_count": 1,
   "metadata": {},
   "outputs": [],
   "source": [
    "import time"
   ]
  },
  {
   "cell_type": "code",
   "execution_count": 2,
   "metadata": {},
   "outputs": [
    {
     "name": "stdout",
     "output_type": "stream",
     "text": [
      "True\n",
      "True\n",
      "True\n",
      "0.0009970664978027344\n"
     ]
    }
   ],
   "source": [
    "# Solution 1\n",
    "start_time_1 = time.time()\n",
    "def factorial_1(n):\n",
    "    answer = 1\n",
    "    for i in range(1, n+1):\n",
    "        answer = answer * i\n",
    "    return answer\n",
    "print(factorial_1(5) == 120)\n",
    "print(factorial_1(10) == 3628800)\n",
    "print(factorial_1(0) == 1)\n",
    "end_time_1 = time.time()\n",
    "execution_time_1 = end_time_1 - start_time_1\n",
    "print(execution_time_1)"
   ]
  },
  {
   "cell_type": "code",
   "execution_count": 3,
   "metadata": {},
   "outputs": [
    {
     "name": "stdout",
     "output_type": "stream",
     "text": [
      "True\n",
      "True\n",
      "True\n",
      "0.0010025501251220703\n"
     ]
    }
   ],
   "source": [
    "# Solution 2\n",
    "start_time_2 = time.time()\n",
    "def factorial_recursive(n):\n",
    "    if n == 0:\n",
    "        return 1\n",
    "    else:\n",
    "        return n * factorial_recursive(n - 1)\n",
    "print(factorial_recursive(5) == 120)\n",
    "print(factorial_recursive(10) == 3628800)\n",
    "print(factorial_recursive(0) == 1)\n",
    "end_time_2 = time.time()\n",
    "execution_time_2 = end_time_2 - start_time_2\n",
    "print(execution_time_2)"
   ]
  },
  {
   "cell_type": "code",
   "execution_count": 4,
   "metadata": {},
   "outputs": [
    {
     "name": "stdout",
     "output_type": "stream",
     "text": [
      "True\n",
      "True\n",
      "True\n",
      "0.0009999275207519531\n"
     ]
    }
   ],
   "source": [
    "# My Solution\n",
    "start_time_my = time.time()\n",
    "def factorial_my(n):\n",
    "    if n == 0: return 1\n",
    "    ret = n\n",
    "    for i in range(n-1, 1, -1):\n",
    "        ret = ret * i\n",
    "    ret = ret * 1\n",
    "    return ret\n",
    "print(factorial_my(5) == 120)\n",
    "print(factorial_my(10) == 3628800)\n",
    "print(factorial_my(0) == 1)\n",
    "end_time_my = time.time()\n",
    "execution_time_my = end_time_my - start_time_my\n",
    "print(execution_time_my)"
   ]
  },
  {
   "cell_type": "code",
   "execution_count": 5,
   "metadata": {},
   "outputs": [
    {
     "name": "stdout",
     "output_type": "stream",
     "text": [
      "0.0009970664978027344\n",
      "0.0010025501251220703\n"
     ]
    }
   ],
   "source": [
    "time_list = [execution_time_1, execution_time_2, execution_time_my]\n",
    "\n",
    "print(min(time_list))\n",
    "print(max(time_list))"
   ]
  }
 ],
 "metadata": {
  "kernelspec": {
   "display_name": "Python 3",
   "language": "python",
   "name": "python3"
  },
  "language_info": {
   "codemirror_mode": {
    "name": "ipython",
    "version": 3
   },
   "file_extension": ".py",
   "mimetype": "text/x-python",
   "name": "python",
   "nbconvert_exporter": "python",
   "pygments_lexer": "ipython3",
   "version": "3.12.3"
  }
 },
 "nbformat": 4,
 "nbformat_minor": 2
}
