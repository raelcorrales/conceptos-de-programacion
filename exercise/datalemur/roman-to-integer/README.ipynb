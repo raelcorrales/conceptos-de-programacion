{
 "cells": [
  {
   "cell_type": "markdown",
   "metadata": {},
   "source": [
    "# Romano a Entero\n",
    "> Pregunta de Entrevista de Palantir en Python\n",
    "\n",
    "Dado un numero Romano valido, convertirlo a Entero.\n",
    "\n",
    "\n",
    "En caso de que no pienses a menudo en el imperio romano y necesites un curso intensivo sobre cómo pasar del Super Bowl \"XLIV\" a un número real, aquí está la tabla que asigna los números a sus valores:\n",
    "\n",
    "|  Symbol  |  Value  |\n",
    "|  ------------  |  ------------  |\n",
    "|  I  |  1  |\n",
    "|  V  |  5  |\n",
    "|  X  |  10  |\n",
    "|  L  |  50  |\n",
    "|  C  |  100  |\n",
    "|  D  |  500  |\n",
    "|  M  |  1000  |\n",
    "\n",
    "Los números se escriben generalmente de mayor a menor, de izquierda a derecha. Por ejemplo, el número 11 se escribe XI, donde X representa 10 e I representa 1, por lo que el total es 11.\n",
    "\n",
    "De manera similar, XXX sería 30 (a menos que estemos hablando del historial de búsqueda de su navegador).\n",
    "\n",
    "**Ejemplo 1:**\n",
    "*Input:* `s = \"XI\"`\n",
    "*Output:* **11**\n",
    "\n",
    "**Explanation:** `X = 10`, `I = 1`, `XI = 11`\n",
    "\n",
    "En ciertos casos, un número menor precede a uno mayor para indicar una resta. Por ejemplo, 4 se escribe como IV, donde I precede a V, lo que significa que se resta 1 de 5, lo que da como resultado 4. De manera similar, 90 se escribe como XC, donde X precede a C, lo que significa que se resta 10 de 100, lo que da como resultado 90.\n",
    "\n",
    "This subtraction rule applies in the following cases:\n",
    "\n",
    "I va antes de V (5) o X (10) para formar 4 y 9.\n",
    "X va antes de L (50) o C (100) para formar 40 y 90.\n",
    "C va antes de D (500) o M (1000) para formar 400 y 900.\n",
    "\n",
    "**Example 2:**\n",
    "*Input:* `s = \"LXIX\"`\n",
    "*Output:* **69**\n",
    "\n",
    "**Explanation:** `L = 50`, `X = 10`, `IX = 9`, `LXIX = 69`.\n",
    "Nice."
   ]
  },
  {
   "cell_type": "code",
   "execution_count": 1,
   "metadata": {},
   "outputs": [],
   "source": [
    "import time"
   ]
  },
  {
   "cell_type": "code",
   "execution_count": 2,
   "metadata": {},
   "outputs": [
    {
     "name": "stdout",
     "output_type": "stream",
     "text": [
      "True\n",
      "True\n",
      "True\n",
      "True\n",
      "True\n",
      "0.0009975433349609375\n"
     ]
    }
   ],
   "source": [
    "# Solution 1\n",
    "start_time_1 = time.time()\n",
    "def romanToInt_1(s):\n",
    "    rom = {\"I\":1, \"V\":5, \"X\":10, \"L\":50, \"C\":100, \"D\":500, \"M\":1000}\n",
    "    ans = 0\n",
    "    i = 0\n",
    "    \n",
    "    while i < len(s):\n",
    "        # Check if two characters can be combined as a valid numeral\n",
    "        if i + 1 < len(s) and rom[s[i+1]] > rom[s[i]]:\n",
    "            ans += rom[s[i+1]] - rom[s[i]]\n",
    "            i += 2\n",
    "        else:\n",
    "            ans += rom[s[i]]\n",
    "            i += 1\n",
    "            \n",
    "    return ans\n",
    "\n",
    "print(romanToInt_1('XI') == 11)\n",
    "print(romanToInt_1('LXIX') == 69)\n",
    "print(romanToInt_1('CDXX') == 420)\n",
    "print(romanToInt_1('MCMXCIX') == 1999)\n",
    "print(romanToInt_1('DCCCLXXXVIII') == 888)\n",
    "end_time_1 = time.time()\n",
    "execution_time_1 = end_time_1 - start_time_1\n",
    "print(execution_time_1)"
   ]
  },
  {
   "cell_type": "code",
   "execution_count": 3,
   "metadata": {},
   "outputs": [
    {
     "name": "stdout",
     "output_type": "stream",
     "text": [
      "True\n",
      "True\n",
      "True\n",
      "True\n",
      "True\n",
      "0.0009980201721191406\n"
     ]
    }
   ],
   "source": [
    "# Solution 2\n",
    "start_time_2 = time.time()\n",
    "def romanToInt_2(s):\n",
    "    rom = {\n",
    "        \"I\": 1, \"V\": 5, \"X\": 10, \"L\": 50, \"C\": 100, \"D\": 500, \"M\": 1000,\n",
    "        \"CM\": 900, \"CD\": 400, \"IV\": 4, \"IX\": 9, \"XL\": 40, \"XC\": 90\n",
    "    }\n",
    "    ans = 0\n",
    "    i = 0\n",
    "    \n",
    "    while i < len(s):\n",
    "        # Check if the next two characters form a valid pair in the dictionary\n",
    "        if i + 1 < len(s) and s[i:i+2] in rom:\n",
    "            ans += rom[s[i:i+2]]\n",
    "            i += 2\n",
    "        else:\n",
    "            ans += rom[s[i]]\n",
    "            i += 1\n",
    "            \n",
    "    return ans\n",
    "\n",
    "print(romanToInt_2('XI') == 11)\n",
    "print(romanToInt_2('LXIX') == 69)\n",
    "print(romanToInt_2('CDXX') == 420)\n",
    "print(romanToInt_2('MCMXCIX') == 1999)\n",
    "print(romanToInt_2('DCCCLXXXVIII') == 888)\n",
    "end_time_2 = time.time()\n",
    "execution_time_2 = end_time_2 - start_time_2\n",
    "print(execution_time_2)"
   ]
  },
  {
   "cell_type": "code",
   "execution_count": 16,
   "metadata": {},
   "outputs": [
    {
     "name": "stdout",
     "output_type": "stream",
     "text": [
      "True\n",
      "True\n",
      "True\n",
      "True\n",
      "True\n",
      "0.0010085105895996094\n"
     ]
    }
   ],
   "source": [
    "# My Solution\n",
    "start_time_my = time.time()\n",
    "def romanToInt(s):\n",
    "    m, c, d, u = 0, 0, 0, 0\n",
    "\n",
    "    for n in range(0, len(s)):\n",
    "        s_a = s[n]\n",
    "        s_n = s[n-1] if n>0 else None\n",
    "        if s_a == 'M':\n",
    "            if s_n is not None and s_n == 'C':\n",
    "                c += 8\n",
    "            else:\n",
    "                m += 1\n",
    "        elif s_a == 'D':\n",
    "            if s_n is not None and s_n == 'C':\n",
    "                c += 3\n",
    "            else:\n",
    "                c += 5\n",
    "        elif s_a == 'C':\n",
    "            if s_n is not None and s_n == 'X':\n",
    "                d += 8\n",
    "            else:\n",
    "                c += 1\n",
    "        elif s_a == 'L':\n",
    "            d += 5\n",
    "        elif s_a == 'X':\n",
    "            if s_n is not None and s_n == 'I':\n",
    "                u += 8\n",
    "            else:\n",
    "                d += 1\n",
    "        elif s_a == 'V':\n",
    "            if s_n is not None and s_n == 'I':\n",
    "                u += 4\n",
    "            else:\n",
    "                u += 5\n",
    "        elif s_a == 'I':\n",
    "            u += 1\n",
    "    return (m*1000)+(c*100)+(d*10) + (u*1)\n",
    "  \n",
    "print(romanToInt('XI') == 11)\n",
    "print(romanToInt('LXIX') == 69)\n",
    "print(romanToInt('CDXX') == 420)\n",
    "print(romanToInt('MCMXCIX') == 1999)\n",
    "print(romanToInt('DCCCLXXXVIII') == 888)\n",
    "end_time_my = time.time()\n",
    "execution_time_my = end_time_my - start_time_my\n",
    "print(execution_time_my)"
   ]
  },
  {
   "cell_type": "code",
   "execution_count": 15,
   "metadata": {},
   "outputs": [
    {
     "name": "stdout",
     "output_type": "stream",
     "text": [
      "0.0009975433349609375\n",
      "0.0020034313201904297\n"
     ]
    }
   ],
   "source": [
    "time_list = [execution_time_1, execution_time_2, execution_time_my]\n",
    "\n",
    "print(min(time_list))\n",
    "print(max(time_list))"
   ]
  }
 ],
 "metadata": {
  "kernelspec": {
   "display_name": "Python 3",
   "language": "python",
   "name": "python3"
  },
  "language_info": {
   "codemirror_mode": {
    "name": "ipython",
    "version": 3
   },
   "file_extension": ".py",
   "mimetype": "text/x-python",
   "name": "python",
   "nbconvert_exporter": "python",
   "pygments_lexer": "ipython3",
   "version": "3.12.3"
  }
 },
 "nbformat": 4,
 "nbformat_minor": 2
}
