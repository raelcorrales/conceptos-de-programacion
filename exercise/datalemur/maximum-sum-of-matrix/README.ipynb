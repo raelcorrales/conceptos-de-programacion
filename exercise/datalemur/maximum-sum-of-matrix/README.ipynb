{
 "cells": [
  {
   "cell_type": "markdown",
   "metadata": {},
   "source": [
    "# Maximum Sum of a Matrix\n",
    "> Pregunta de entrevista sobre Stripe Python\n",
    "\n",
    "Definimos la suma matricial de una matriz como la suma máxima posible de los elementos de la matriz de modo que ninguno de los elementos seleccionados comparta la misma fila o columna.\n",
    "\n",
    "Dada una matriz de números enteros, devuelve la suma matricial.\n",
    "\n",
    "Example #1\n",
    "\n",
    "|  |   |   |\n",
    "| :------------: | :------------: | :------------: |\n",
    "| **3**  |  1 | 2  |\n",
    "| 4  |  5 |  **6** |\n",
    "| -7  | **8**  |  9 |\n",
    "\n",
    "**Input:**\n",
    "> matrix = [[3, 1, 2],[4, 5, 6],[7, 8, 9]]\n",
    "\n",
    "**Output:** 17\n",
    "\n",
    "**Explicación:** Una forma posible de seleccionar es 3, 6 y 8. También puedes seleccionar 3, 5 y 9, pero el resultado seguirá siendo 17."
   ]
  },
  {
   "cell_type": "code",
   "execution_count": 4,
   "metadata": {},
   "outputs": [],
   "source": [
    "from itertools import permutations\n",
    "def maxMatrixSum(matrix):\n",
    "  n = len(matrix)\n",
    "  max_sum = float('-inf')\n",
    "  for perm in permutations(range(n)):\n",
    "    current_sum = sum(matrix[i][perm[i]] for i in range(n))\n",
    "    max_sum = max(max_sum, current_sum)\n",
    "    \n",
    "  return max_sum"
   ]
  },
  {
   "cell_type": "code",
   "execution_count": 7,
   "metadata": {},
   "outputs": [
    {
     "name": "stdout",
     "output_type": "stream",
     "text": [
      "True\n",
      "True\n",
      "True\n",
      "True\n",
      "True\n",
      "True\n"
     ]
    }
   ],
   "source": [
    "print(maxMatrixSum([])==0)\n",
    "print(maxMatrixSum([[1, 2, 3]])==1)\n",
    "print(maxMatrixSum([[-1, -2, -3], [-4, -5, -6]])==-6)\n",
    "print(maxMatrixSum([[3, 1, 2], [4, 5, 6], [-7, 8, 9]])==17)\n",
    "print(maxMatrixSum([[1, 2, 3, 4], [5, 6, 7, 8], [9, 10, 11, 12], [13, 14, 15, 16]])==34)\n",
    "print(maxMatrixSum([[1, 2, 1], [2, 1, 2], [1, 2, 1]])==5)"
   ]
  }
 ],
 "metadata": {
  "kernelspec": {
   "display_name": "Python 3",
   "language": "python",
   "name": "python3"
  },
  "language_info": {
   "codemirror_mode": {
    "name": "ipython",
    "version": 3
   },
   "file_extension": ".py",
   "mimetype": "text/x-python",
   "name": "python",
   "nbconvert_exporter": "python",
   "pygments_lexer": "ipython3",
   "version": "3.12.3"
  }
 },
 "nbformat": 4,
 "nbformat_minor": 2
}
