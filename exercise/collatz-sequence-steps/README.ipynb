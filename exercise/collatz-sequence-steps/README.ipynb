{
 "cells": [
  {
   "cell_type": "markdown",
   "metadata": {},
   "source": [
    "# Collatz Sequence Steps\n",
    "> Bloomberg Python Interview Question\n",
    "\n",
    "Dado un entero positivo **n**, la secuencia de Collatz para **n** se genera aplicando repetidamente las siguientes operaciones:\n",
    "\n",
    "1. Si *n* es par, entonces *n = n/2*.\n",
    "1. Si *n* es impar, entonces *n = 3 x n + 1*.\n",
    "1. Repita los pasos anteriores hasta que *n* sea 1.\n",
    "\n",
    "Your task is to return the number of steps required to reduce n to 1.\n",
    "\n",
    "**Ejemplo No. 1**\n",
    "**Input:**  `n = 3`\n",
    "**Output:** `7`\n",
    "**Explanation:**\n",
    "The output is 7, because there were 7 Collatz steps taken:\n",
    "\n",
    "`3 ─> 10 ─> 5 ─> 16 ─> 8 ─> 4 ─> 2 ─> 1`\n",
    "\n",
    "Here's the math behind the 7 steps:\n",
    "\n",
    "1.Given 3 is odd, so `3∗n+1=10`\n",
    "1.Given 10 is even, so `n/2=5`\n",
    "1.Given 5 is odd, so `3∗n+1=16`\n",
    "1.Given 16 is even, so `n/2=8`\n",
    "1.Given 8 is even, so `n/2=4`\n",
    "1.Given 4 is even, so `n/2=2`\n",
    "1.Given 2 is even, so `n/2=1`\n",
    "\n",
    "\n"
   ]
  },
  {
   "cell_type": "code",
   "execution_count": 8,
   "metadata": {},
   "outputs": [],
   "source": [
    "import time"
   ]
  },
  {
   "cell_type": "code",
   "execution_count": 10,
   "metadata": {},
   "outputs": [
    {
     "name": "stdout",
     "output_type": "stream",
     "text": [
      "7\n",
      "0.0010013580322265625\n"
     ]
    }
   ],
   "source": [
    "start_time_my = time.time()\n",
    "def collatzSteps(n):\n",
    "    number = 0\n",
    "    while n != 1:\n",
    "        if (n % 2 == 0):\n",
    "            n = int(n /2)\n",
    "        else:\n",
    "            n = int(3 * n + 1)\n",
    "        number += 1\n",
    "    return number\n",
    "\n",
    "print(collatzSteps(3))\n",
    "end_time_my = time.time()\n",
    "execution_time_my = end_time_my - start_time_my\n",
    "print(execution_time_my)"
   ]
  }
 ],
 "metadata": {
  "kernelspec": {
   "display_name": "Python 3",
   "language": "python",
   "name": "python3"
  },
  "language_info": {
   "codemirror_mode": {
    "name": "ipython",
    "version": 3
   },
   "file_extension": ".py",
   "mimetype": "text/x-python",
   "name": "python",
   "nbconvert_exporter": "python",
   "pygments_lexer": "ipython3",
   "version": "3.12.3"
  }
 },
 "nbformat": 4,
 "nbformat_minor": 2
}
