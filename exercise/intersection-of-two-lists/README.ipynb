{
 "cells": [
  {
   "cell_type": "markdown",
   "metadata": {},
   "source": [
    "# Contiene Duplicados\n",
    "> Pregunta de Entrevista de Apple en Python\n",
    "\n",
    "Dado una lista de enteros llamada `input`, devuelve **True** si algún valor aparece al menos dos veces en la lista. Devuelve **False** si cada elemento de la lista de entrada es distinto.\n",
    "\n",
    "Por ejemplo, si la lista de `input` fuera `[1,3,5,7,1]`, entonces devuelve **True** porque el número 1 aparece dos veces.\n",
    "\n",
    "Sin embargo, si la entrada fuera `[1,3,5,7]`, entonces devuelve **False**, porque cada elemento de la lista es distinto.\n"
   ]
  },
  {
   "cell_type": "code",
   "execution_count": 1,
   "metadata": {},
   "outputs": [],
   "source": [
    "import time"
   ]
  },
  {
   "cell_type": "code",
   "execution_count": 2,
   "metadata": {},
   "outputs": [
    {
     "name": "stdout",
     "output_type": "stream",
     "text": [
      "[1, 3]\n",
      "[]\n",
      "0.0010123252868652344\n"
     ]
    }
   ],
   "source": [
    "# Solution 1\n",
    "start_time_1 = time.time()\n",
    "def intersection1(a, b):\n",
    "  intersection_list = []\n",
    "  for value in a:\n",
    "    if value in b:\n",
    "      intersection_list.append(value)\n",
    "  return intersection_list \n",
    "\n",
    "print(intersection1([1, 2, 3, 4, 5], [0, 1, 3, 7]))\n",
    "print(intersection1([1, 2, 3], [4,5,6]))\n",
    "end_time_1 = time.time()\n",
    "execution_time_1 = end_time_1 - start_time_1\n",
    "print(execution_time_1)"
   ]
  },
  {
   "cell_type": "code",
   "execution_count": 3,
   "metadata": {},
   "outputs": [
    {
     "name": "stdout",
     "output_type": "stream",
     "text": [
      "[1, 3]\n",
      "[]\n",
      "0.0\n"
     ]
    }
   ],
   "source": [
    "# Solution 2\n",
    "start_time_2 = time.time()\n",
    "def intersection2(a, b):\n",
    "  set_a = set(a)\n",
    "  set_b = set(b)\n",
    "  if len(set_a) < len(set_b):\n",
    "    return [x for x in set_a if x in set_b]\n",
    "  else:\n",
    "    return [x for x in set_b if x in set_a]\n",
    "print(intersection2([1, 2, 3, 4, 5], [0, 1, 3, 7]))\n",
    "print(intersection2([1, 2, 3], [4,5,6]))\n",
    "end_time_2 = time.time()\n",
    "execution_time_2 = end_time_2 - start_time_2\n",
    "print(execution_time_2)"
   ]
  },
  {
   "cell_type": "code",
   "execution_count": 4,
   "metadata": {},
   "outputs": [
    {
     "name": "stdout",
     "output_type": "stream",
     "text": [
      "[1, 3]\n",
      "[]\n",
      "0.000997781753540039\n"
     ]
    }
   ],
   "source": [
    "# My Solution\n",
    "start_time_ing = time.time()\n",
    "def intersection_my(a, b):\n",
    "  la = len(a)\n",
    "  lb = len(b)\n",
    "  \n",
    "  intersection_data = []\n",
    "  \n",
    "  if la > lb:\n",
    "    bigger = a\n",
    "    smaller = b\n",
    "  else:\n",
    "    bigger = b\n",
    "    smaller = a\n",
    "    \n",
    "  intersection_data = [nb for nb in bigger for ns in smaller if nb == ns]\n",
    "  return intersection_data\n",
    "\n",
    "print(intersection_my([1, 2, 3, 4, 5], [0, 1, 3, 7]))\n",
    "print(intersection_my([1, 2, 3], [4,5,6]))\n",
    "end_time_ing = time.time()\n",
    "execution_time_ing = end_time_ing - start_time_ing\n",
    "print(execution_time_ing)"
   ]
  },
  {
   "cell_type": "code",
   "execution_count": 5,
   "metadata": {},
   "outputs": [
    {
     "name": "stdout",
     "output_type": "stream",
     "text": [
      "[1, 3]\n",
      "[]\n",
      "0.0009968280792236328\n"
     ]
    }
   ],
   "source": [
    "# My Pythonic Solution\n",
    "start_time_my = time.time()\n",
    "def intersection_my(a, b):\n",
    "    sa = set(a)\n",
    "    sb = set(b)\n",
    "    return  [nb for nb in sa for ns in sb if nb == ns]\n",
    "\n",
    "print(intersection_my([1, 2, 3, 4, 5], [0, 1, 3, 7]))\n",
    "print(intersection_my([1, 2, 3], [4,5,6]))\n",
    "end_time_my = time.time()\n",
    "execution_time_my = end_time_my - start_time_my\n",
    "print(execution_time_my)"
   ]
  },
  {
   "cell_type": "code",
   "execution_count": 6,
   "metadata": {},
   "outputs": [
    {
     "name": "stdout",
     "output_type": "stream",
     "text": [
      "0.0\n",
      "0.0010123252868652344\n"
     ]
    }
   ],
   "source": [
    "time_list = [execution_time_1, execution_time_2, execution_time_ing, execution_time_my]\n",
    "\n",
    "print(min(time_list))\n",
    "print(max(time_list))"
   ]
  }
 ],
 "metadata": {
  "kernelspec": {
   "display_name": "Python 3",
   "language": "python",
   "name": "python3"
  },
  "language_info": {
   "codemirror_mode": {
    "name": "ipython",
    "version": 3
   },
   "file_extension": ".py",
   "mimetype": "text/x-python",
   "name": "python",
   "nbconvert_exporter": "python",
   "pygments_lexer": "ipython3",
   "version": "3.12.3"
  }
 },
 "nbformat": 4,
 "nbformat_minor": 2
}
