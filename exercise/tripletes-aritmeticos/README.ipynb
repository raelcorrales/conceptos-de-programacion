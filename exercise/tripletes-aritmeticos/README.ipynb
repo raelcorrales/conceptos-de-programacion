{
 "cells": [
  {
   "cell_type": "markdown",
   "metadata": {},
   "source": [
    "# Tripletes aritméticos\n",
    "> Pregunta de entrevista sobre Oracle Python\n",
    "\n",
    "Se le proporciona una matriz estrictamente creciente de números enteros **nums** y un número entero positivo **diff**. Un **triplete aritmético** con un espacio de **diff** se define como un triplete de números enteros **(a,b,c)** de **nums** donde:\n",
    "\n",
    "- Cada valor es único y el triplete está en orden creciente:\n",
    "\t- **a < b < c**\n",
    "\n",
    "- La diferencia en los valores de a->b y b->c son exactamente el valor especificado diff\n",
    "\t- **b - a = diff**\n",
    "\t- **c - b = diff**\n",
    "\n",
    "Devuelve la **cantidad de tripletes aritméticos** con un espacio de diff que existen en **nums**.\n",
    "\n",
    "**Ejemplo n.° 1**\n",
    "**Entrada:** nums = [1, 2, 4, 6, 7, 11, 12] ; diff = 5\n",
    "**Salida:** 2\n",
    "\n",
    "**Explicación:** Para un diff de 5, hay dos tripletes válidos: *(1,6,11)* y *(2,7,12)*"
   ]
  },
  {
   "cell_type": "code",
   "execution_count": null,
   "metadata": {},
   "outputs": [],
   "source": [
    "import time"
   ]
  },
  {
   "cell_type": "code",
   "execution_count": null,
   "metadata": {},
   "outputs": [
    {
     "name": "stdout",
     "output_type": "stream",
     "text": [
      "True\n",
      "True\n",
      "True\n"
     ]
    }
   ],
   "source": [
    "start_time_ing = time.time()\n",
    "def arithmeticTriplets(nums: list[int], diff: int) -> int:\n",
    "  num_triplets = 0\n",
    "  num_set = set(nums)\n",
    "  def is_valid(a):\n",
    "    b = a + diff\n",
    "    c = a + 2*diff\n",
    "    return (b in num_set and c in num_set)\n",
    "    \n",
    "  for a in nums:\n",
    "    if is_valid(a):\n",
    "      num_triplets += 1\n",
    "  return num_triplets\n",
    "print(arithmeticTriplets([1, 2, 4, 6, 7, 11, 12], 5) == 2)\n",
    "print(arithmeticTriplets([1, 2, 4, 6, 7, 11, 12], 4) == 0)\n",
    "print(arithmeticTriplets([-9, -7, -4, 0, 1, 3, 5, 7, 13, 18], 7) == 1)\n",
    "end_time_ing = time.time()\n",
    "execution_time_ing = end_time_ing - start_time_ing\n",
    "print(execution_time_ing)"
   ]
  }
 ],
 "metadata": {
  "kernelspec": {
   "display_name": "Python 3",
   "language": "python",
   "name": "python3"
  },
  "language_info": {
   "codemirror_mode": {
    "name": "ipython",
    "version": 3
   },
   "file_extension": ".py",
   "mimetype": "text/x-python",
   "name": "python",
   "nbconvert_exporter": "python",
   "pygments_lexer": "ipython3",
   "version": "3.12.3"
  }
 },
 "nbformat": 4,
 "nbformat_minor": 2
}
