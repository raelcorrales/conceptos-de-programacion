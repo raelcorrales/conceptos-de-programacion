{
 "cells": [
  {
   "cell_type": "markdown",
   "metadata": {},
   "source": [
    "# Parking Bill\n",
    "You parked your car in a parking lot and want to compute the total cost of the ticket. The billing rules are as follows:\n",
    "\n",
    "The entrance fee of the car parking lot is 2;\n",
    "The first full or partial hour costs 3;\n",
    "Each successive full or partial hour (after the first) costs 4.\n",
    "You entered the car parking lot at time E and left at time L. In this task, times are represented as strings in the format **\"HH:MM\"** (where \"HH\" is a two-digit number between 0 and 23, which stands for hours, and \"MM\" is a two-digit number between 0 and 59, which stands for minutes).\n",
    "\n",
    "Write a function:\n",
    "\n",
    "```python\n",
    "def solution(E, L)\n",
    "```\n",
    "\n",
    "that, given strings E and L specifying points in time in the format **\"HH:MM\"**, returns the total cost of the parking bill from your entry at time E to your exit at time L. You can assume that E describes a time before L on the same day.\n",
    "\n",
    "For example, given **\"10:00\"** and **\"13:21\"** your function should return 17, because the entrance fee equals 2, the first hour costs 3 and there are two more full hours and part of a further hour, so the total cost is 2 + 3 + (3 * 4) = 17. Given **\"09:42\"** and **\"11:42\"** your function should return 9, because the entrance fee equals 2, the first hour costs 3 and the second hour costs 4, so the total cost is 2 + 3 + 4 = 9.\n",
    "\n",
    "Assume that:\n",
    "\n",
    "strings E and L follow the format **\"HH:MM\"** strictly;\n",
    "string E describes a time before L on the same day.\n",
    "In your solution, focus on correctness. The performance of your solution will not be the focus of the assessment.\n"
   ]
  },
  {
   "cell_type": "code",
   "execution_count": 19,
   "metadata": {},
   "outputs": [],
   "source": [
    "def solution(E, L):\n",
    "    e_hour, e_minute = map(int, E.split(':'))\n",
    "    l_hour, l_minute = map(int, L.split(':'))\n",
    "\n",
    "    total_minutes = (l_hour * 60 + l_minute) - (e_hour * 60 + e_minute)\n",
    "    total_hour = (total_minutes + 59) // 60\n",
    "\n",
    "    if total_hour == 0:\n",
    "        return 2\n",
    "    cost = 2 + 3 + (total_hour - 1) * 4\n",
    "    return cost"
   ]
  },
  {
   "cell_type": "code",
   "execution_count": 21,
   "metadata": {},
   "outputs": [
    {
     "name": "stdout",
     "output_type": "stream",
     "text": [
      "E: 10:00, L: 10:30, Total minutes: 30\n",
      "Total hours (rounded up): 1\n",
      "Cost: 5\n",
      "True\n",
      "E: 10:00, L: 10:05, Total minutes: 5\n",
      "Total hours (rounded up): 1\n",
      "Cost: 5\n",
      "True\n",
      "E: 10:00, L: 11:01, Total minutes: 61\n",
      "Total hours (rounded up): 2\n",
      "Cost: 9\n",
      "True\n",
      "E: 10:00, L: 11:59, Total minutes: 119\n",
      "Total hours (rounded up): 2\n",
      "Cost: 9\n",
      "True\n",
      "E: 10:00, L: 12:01, Total minutes: 121\n",
      "Total hours (rounded up): 3\n",
      "Cost: 13\n",
      "True\n"
     ]
    }
   ],
   "source": [
    "# Test cases\n",
    "print(solution(\"10:00\", \"10:30\") == 5)\n",
    "print(solution(\"10:00\", \"10:05\") == 5)\n",
    "print(solution(\"10:00\", \"11:01\") == 9)\n",
    "print(solution(\"10:00\", \"11:59\") == 9)\n",
    "print(solution(\"10:00\", \"12:01\") == 13)"
   ]
  }
 ],
 "metadata": {
  "kernelspec": {
   "display_name": "Python 3",
   "language": "python",
   "name": "python3"
  },
  "language_info": {
   "codemirror_mode": {
    "name": "ipython",
    "version": 3
   },
   "file_extension": ".py",
   "mimetype": "text/x-python",
   "name": "python",
   "nbconvert_exporter": "python",
   "pygments_lexer": "ipython3",
   "version": "3.12.3"
  }
 },
 "nbformat": 4,
 "nbformat_minor": 2
}
